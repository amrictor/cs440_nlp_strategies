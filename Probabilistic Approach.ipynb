{
 "cells": [
  {
   "cell_type": "code",
   "execution_count": 86,
   "metadata": {
    "scrolled": false
   },
   "outputs": [],
   "source": [
    "with open(\"./data/season1_12.txt\") as f:\n",
    "    contents = f.read().lower()\n",
    "    translate = \"?:!-\\n\"\n",
    "    replace = \"...  \"\n",
    "    delete = \",;_()\\\"\"\n",
    "    table = contents.maketrans(translate, replace, delete)\n",
    "    \n",
    "    #SPLIT SO EACH ELEMENT IS EITHER A CHARACTER OR ACTION\n",
    "    contents = contents.translate(table).strip().split(\"}} {{l|\")\n",
    "    contents[0] = contents[0].replace(\"{{l|\",\"\")\n",
    "    contents[-1] = contents[-1][:contents[-1].index('}')] \n",
    "    \n",
    "    #REMOVE ELIPSE AND ADD IN ACTION AND SENTENCE CHARS\n",
    "    table = {\"...\": \"\", \"''[\": \"<a> \", \"]''\": \" <\\\\a>\", \"'\": \"\"}# \".\": \"<\\s> <s>\"}\n",
    "    for i, line in enumerate(contents):\n",
    "        for k, v in table.items():\n",
    "            line = line.replace(k,v)\n",
    "        contents[i] = line\n",
    "\n",
    "        #IF A LINE ENDS WITH A PERIOD, REMOVE THE START OF SENTENCE CHAR\n",
    "        #if contents[i][-4:] == ' <s>':\n",
    "        #    contents[i] = contents[i][:-4]\n",
    "    \n",
    "    #SAVE A LIST OF THE CHARACTERS AND AND CHARACTER TAGS\n",
    "    characters = []\n",
    "    for i, line in enumerate( contents ):\n",
    "        if line[:3] == '<a>':\n",
    "            characters.append('action')\n",
    "            continue\n",
    "        \n",
    "        line = line.split(\"|\")\n",
    "        characters.append(line[0].strip())\n",
    "        contents[i] = line[0].strip() + \" <c> \" + line[1].strip() + \" <\\c>\"\n",
    "\n",
    "    #ADD <t> </t> TO SIGNIFY START AND END OF TEXT DOCUMENT\n",
    "    contents[0] = \"<t> \" + contents[0]\n",
    "    contents[-1] = contents[-1] +\" <\\\\t>\""
   ]
  },
  {
   "cell_type": "code",
   "execution_count": null,
   "metadata": {},
   "outputs": [],
   "source": [
    "\"\""
   ]
  }
 ],
 "metadata": {
  "kernelspec": {
   "display_name": "Python 3",
   "language": "python",
   "name": "python3"
  },
  "language_info": {
   "codemirror_mode": {
    "name": "ipython",
    "version": 3
   },
   "file_extension": ".py",
   "mimetype": "text/x-python",
   "name": "python",
   "nbconvert_exporter": "python",
   "pygments_lexer": "ipython3",
   "version": "3.7.3"
  }
 },
 "nbformat": 4,
 "nbformat_minor": 2
}
